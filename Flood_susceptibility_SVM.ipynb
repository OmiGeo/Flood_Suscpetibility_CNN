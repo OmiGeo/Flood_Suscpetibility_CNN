{
 "cells": [
  {
   "cell_type": "code",
   "execution_count": 1,
   "id": "5ca032d0",
   "metadata": {},
   "outputs": [],
   "source": [
    "import os"
   ]
  },
  {
   "cell_type": "code",
   "execution_count": 2,
   "id": "e455dbec",
   "metadata": {},
   "outputs": [],
   "source": [
    "os.chdir(\"D:\\\\XGBOOST\")"
   ]
  },
  {
   "cell_type": "code",
   "execution_count": 3,
   "id": "ac52c18a",
   "metadata": {},
   "outputs": [],
   "source": [
    "import pandas as pd"
   ]
  },
  {
   "cell_type": "code",
   "execution_count": 4,
   "id": "f07d3f7f",
   "metadata": {},
   "outputs": [],
   "source": [
    "df = pd.read_csv(\"final3.csv\")"
   ]
  },
  {
   "cell_type": "code",
   "execution_count": 5,
   "id": "3f40f2fb",
   "metadata": {},
   "outputs": [
    {
     "data": {
      "text/plain": [
       "Index(['system_ind', 'F', 'Longitude', 'Lattitude', 'ORIG_FID', 'Soil_',\n",
       "       'Slope', 'Rainfall1', 'NDVI', 'lulc_', 'Geomorphol', 'Geology_',\n",
       "       'Flow_acc', 'DR_final', 'dem', 'DD_final', 'Curvature', 'CN', 'Aspect',\n",
       "       'TWI', 'STI', 'SPI'],\n",
       "      dtype='object')"
      ]
     },
     "execution_count": 5,
     "metadata": {},
     "output_type": "execute_result"
    }
   ],
   "source": [
    "df.columns"
   ]
  },
  {
   "cell_type": "code",
   "execution_count": 7,
   "id": "de350d26",
   "metadata": {},
   "outputs": [],
   "source": [
    "x = df[['Soil_','Slope', 'Rainfall1', 'NDVI', 'lulc_', 'Geomorphol', 'Geology_',\n",
    "       'Flow_acc', 'DR_final', 'dem', 'DD_final', 'Curvature', 'CN', 'Aspect',\n",
    "       'TWI', 'STI', 'SPI']]\n",
    "y = df['F']"
   ]
  },
  {
   "cell_type": "code",
   "execution_count": 8,
   "id": "3aab883a",
   "metadata": {},
   "outputs": [],
   "source": [
    "from sklearn.preprocessing import StandardScaler"
   ]
  },
  {
   "cell_type": "code",
   "execution_count": 9,
   "id": "26ef4f7e",
   "metadata": {},
   "outputs": [
    {
     "name": "stdout",
     "output_type": "stream",
     "text": [
      "[[ 1.17517075 -0.78141245  0.22708139 ...  0.96688443  1.51532394\n",
      "  -0.63374529]\n",
      " [ 1.17517075 -0.54404034  0.22708139 ... -0.4741001  -0.66130081\n",
      "  -1.38513413]\n",
      " [ 1.17517075 -0.59000786  0.22708139 ...  0.74171116 -0.66077082\n",
      "   0.91492108]\n",
      " ...\n",
      " [ 0.03418679  2.45600553 -2.25674098 ... -0.60748955 -0.66130081\n",
      "   1.3063448 ]\n",
      " [-1.10679718  0.38506688  0.35924624 ... -0.77976828 -0.66130081\n",
      "   0.55468176]\n",
      " [-1.10679718  0.0068231   0.49513111 ... -0.14039789 -0.66130081\n",
      "   0.93934409]]\n"
     ]
    }
   ],
   "source": [
    "object= StandardScaler()\n",
    "x_scale = object.fit_transform(x) \n",
    "print(x_scale)"
   ]
  },
  {
   "cell_type": "code",
   "execution_count": 10,
   "id": "999bc856",
   "metadata": {},
   "outputs": [],
   "source": [
    "from sklearn.model_selection import train_test_split\n",
    "\n",
    "x_train,x_test,y_train,y_test = train_test_split(x_scale,y,test_size=0.3, random_state= 42)"
   ]
  },
  {
   "cell_type": "code",
   "execution_count": 11,
   "id": "094226c6",
   "metadata": {},
   "outputs": [],
   "source": [
    "from sklearn.svm import SVC  \n",
    "#clf = SVC(kernel='rbf')\n",
    "clf= SVC(kernel='rbf', probability=True)\n",
    "  \n",
    "model = clf.fit(x_train, y_train) "
   ]
  },
  {
   "cell_type": "code",
   "execution_count": 12,
   "id": "3019a307",
   "metadata": {},
   "outputs": [
    {
     "data": {
      "text/plain": [
       "array([0, 0, 1, 0, 1, 0, 1, 0, 0, 0, 1, 1, 0, 1, 1, 1, 1, 1, 0, 0, 0, 0,\n",
       "       0, 0, 1, 1, 1, 0, 0, 0, 1, 1, 0, 1, 1, 1, 0, 1, 0, 0, 1, 1, 1, 1,\n",
       "       0, 0, 0, 0, 0, 0, 1, 1, 0, 1, 1, 1, 0, 1, 1, 1, 0, 0, 0, 1, 1, 0,\n",
       "       1, 0, 1, 1, 0, 1, 0, 1, 1, 1, 1, 0, 0, 0, 0, 1, 1, 1, 0, 0, 0, 1,\n",
       "       1, 1, 0, 0, 1, 1, 0, 0, 0, 0, 1, 0, 1, 0, 1, 1, 1, 1, 1, 0, 1, 1,\n",
       "       0, 0, 1, 1, 0, 1, 0, 0, 1, 1, 1, 1, 1, 0, 1, 1, 0, 1, 1, 0, 0, 1,\n",
       "       1, 0, 1, 0, 0, 1, 0, 0, 1, 0, 0, 1, 1, 0, 1, 1, 0, 0, 0, 1, 0, 0,\n",
       "       0, 0, 0, 0, 0, 0, 1, 0, 1, 1, 1, 1, 1, 1, 1, 0, 1, 0, 1, 1, 1, 0,\n",
       "       1, 0, 0, 0, 0, 0, 1, 0, 0, 1, 0, 0, 0, 0, 0, 0, 1, 0, 0, 1, 0, 1,\n",
       "       0, 0, 1, 1, 1, 0, 1, 1, 1, 0, 1, 0, 0, 1, 1, 0, 1, 1, 0, 1, 1, 0,\n",
       "       0, 1, 0, 1, 1, 0, 1, 0, 0, 1, 0, 1, 1, 1, 1, 1, 0, 1, 1, 1, 0],\n",
       "      dtype=int64)"
      ]
     },
     "execution_count": 12,
     "metadata": {},
     "output_type": "execute_result"
    }
   ],
   "source": [
    "prediction = model.predict(x_test)\n",
    "prediction"
   ]
  },
  {
   "cell_type": "code",
   "execution_count": 13,
   "id": "6df761e0",
   "metadata": {},
   "outputs": [
    {
     "data": {
      "text/plain": [
       "array([[0.89537692, 0.10462308],\n",
       "       [0.93921232, 0.06078768],\n",
       "       [0.03722833, 0.96277167],\n",
       "       [0.98540646, 0.01459354],\n",
       "       [0.08320823, 0.91679177],\n",
       "       [0.9540615 , 0.0459385 ],\n",
       "       [0.02611379, 0.97388621],\n",
       "       [0.97896194, 0.02103806],\n",
       "       [0.99162207, 0.00837793],\n",
       "       [0.99505548, 0.00494452],\n",
       "       [0.07918899, 0.92081101],\n",
       "       [0.01909712, 0.98090288],\n",
       "       [0.95794893, 0.04205107],\n",
       "       [0.11116708, 0.88883292],\n",
       "       [0.00654884, 0.99345116],\n",
       "       [0.01692344, 0.98307656],\n",
       "       [0.07623145, 0.92376855],\n",
       "       [0.03559865, 0.96440135],\n",
       "       [0.99079082, 0.00920918],\n",
       "       [0.98157244, 0.01842756],\n",
       "       [0.98371186, 0.01628814],\n",
       "       [0.99485346, 0.00514654],\n",
       "       [0.94639903, 0.05360097],\n",
       "       [0.83935996, 0.16064004],\n",
       "       [0.40305483, 0.59694517],\n",
       "       [0.02888425, 0.97111575],\n",
       "       [0.05957515, 0.94042485],\n",
       "       [0.97913183, 0.02086817],\n",
       "       [0.99137729, 0.00862271],\n",
       "       [0.99762131, 0.00237869],\n",
       "       [0.0465552 , 0.9534448 ],\n",
       "       [0.01025332, 0.98974668],\n",
       "       [0.95083694, 0.04916306],\n",
       "       [0.03764032, 0.96235968],\n",
       "       [0.01618443, 0.98381557],\n",
       "       [0.07935633, 0.92064367],\n",
       "       [0.98510728, 0.01489272],\n",
       "       [0.01604069, 0.98395931],\n",
       "       [0.96552687, 0.03447313],\n",
       "       [0.84668705, 0.15331295],\n",
       "       [0.05115058, 0.94884942],\n",
       "       [0.02166974, 0.97833026],\n",
       "       [0.04335333, 0.95664667],\n",
       "       [0.02651831, 0.97348169],\n",
       "       [0.97502195, 0.02497805],\n",
       "       [0.98373499, 0.01626501],\n",
       "       [0.99268456, 0.00731544],\n",
       "       [0.99731873, 0.00268127],\n",
       "       [0.85082681, 0.14917319],\n",
       "       [0.75725771, 0.24274229],\n",
       "       [0.01781108, 0.98218892],\n",
       "       [0.0622259 , 0.9377741 ],\n",
       "       [0.99268923, 0.00731077],\n",
       "       [0.02277468, 0.97722532],\n",
       "       [0.04072748, 0.95927252],\n",
       "       [0.03318135, 0.96681865],\n",
       "       [0.95030703, 0.04969297],\n",
       "       [0.0080844 , 0.9919156 ],\n",
       "       [0.01988211, 0.98011789],\n",
       "       [0.05987465, 0.94012535],\n",
       "       [0.95980447, 0.04019553],\n",
       "       [0.98328226, 0.01671774],\n",
       "       [0.97602955, 0.02397045],\n",
       "       [0.01314226, 0.98685774],\n",
       "       [0.02309648, 0.97690352],\n",
       "       [0.99623908, 0.00376092],\n",
       "       [0.01232248, 0.98767752],\n",
       "       [0.98139765, 0.01860235],\n",
       "       [0.2169111 , 0.7830889 ],\n",
       "       [0.02492946, 0.97507054],\n",
       "       [0.94237423, 0.05762577],\n",
       "       [0.02664824, 0.97335176],\n",
       "       [0.99188342, 0.00811658],\n",
       "       [0.20311986, 0.79688014],\n",
       "       [0.39762919, 0.60237081],\n",
       "       [0.0426231 , 0.9573769 ],\n",
       "       [0.04802334, 0.95197666],\n",
       "       [0.96631634, 0.03368366],\n",
       "       [0.87825814, 0.12174186],\n",
       "       [0.98910335, 0.01089665],\n",
       "       [0.62965058, 0.37034942],\n",
       "       [0.03093801, 0.96906199],\n",
       "       [0.01095551, 0.98904449],\n",
       "       [0.01373695, 0.98626305],\n",
       "       [0.99492414, 0.00507586],\n",
       "       [0.97278789, 0.02721211],\n",
       "       [0.93297762, 0.06702238],\n",
       "       [0.00838809, 0.99161191],\n",
       "       [0.01474655, 0.98525345],\n",
       "       [0.01578673, 0.98421327],\n",
       "       [0.99560774, 0.00439226],\n",
       "       [0.98060688, 0.01939312],\n",
       "       [0.01241402, 0.98758598],\n",
       "       [0.03040867, 0.96959133],\n",
       "       [0.99637853, 0.00362147],\n",
       "       [0.97778987, 0.02221013],\n",
       "       [0.91781232, 0.08218768],\n",
       "       [0.8311734 , 0.1688266 ],\n",
       "       [0.0136085 , 0.9863915 ],\n",
       "       [0.87099224, 0.12900776],\n",
       "       [0.05373286, 0.94626714],\n",
       "       [0.98026635, 0.01973365],\n",
       "       [0.02002416, 0.97997584],\n",
       "       [0.01982065, 0.98017935],\n",
       "       [0.00821737, 0.99178263],\n",
       "       [0.01205813, 0.98794187],\n",
       "       [0.07490857, 0.92509143],\n",
       "       [0.99633509, 0.00366491],\n",
       "       [0.05146706, 0.94853294],\n",
       "       [0.2549042 , 0.7450958 ],\n",
       "       [0.97701217, 0.02298783],\n",
       "       [0.87438254, 0.12561746],\n",
       "       [0.03186901, 0.96813099],\n",
       "       [0.04068719, 0.95931281],\n",
       "       [0.99326189, 0.00673811],\n",
       "       [0.02133129, 0.97866871],\n",
       "       [0.99405921, 0.00594079],\n",
       "       [0.94231637, 0.05768363],\n",
       "       [0.00788285, 0.99211715],\n",
       "       [0.01103556, 0.98896444],\n",
       "       [0.01035856, 0.98964144],\n",
       "       [0.01979827, 0.98020173],\n",
       "       [0.03828566, 0.96171434],\n",
       "       [0.9134148 , 0.0865852 ],\n",
       "       [0.01081525, 0.98918475],\n",
       "       [0.03510789, 0.96489211],\n",
       "       [0.99078728, 0.00921272],\n",
       "       [0.02660031, 0.97339969],\n",
       "       [0.01886713, 0.98113287],\n",
       "       [0.95743584, 0.04256416],\n",
       "       [0.96581724, 0.03418276],\n",
       "       [0.02735835, 0.97264165],\n",
       "       [0.014247  , 0.985753  ],\n",
       "       [0.99324799, 0.00675201],\n",
       "       [0.01554481, 0.98445519],\n",
       "       [0.97625963, 0.02374037],\n",
       "       [0.9790732 , 0.0209268 ],\n",
       "       [0.02743322, 0.97256678],\n",
       "       [0.95195538, 0.04804462],\n",
       "       [0.99103178, 0.00896822],\n",
       "       [0.05498135, 0.94501865],\n",
       "       [0.99534108, 0.00465892],\n",
       "       [0.97579874, 0.02420126],\n",
       "       [0.02178973, 0.97821027],\n",
       "       [0.00855658, 0.99144342],\n",
       "       [0.839111  , 0.160889  ],\n",
       "       [0.01285239, 0.98714761],\n",
       "       [0.01227188, 0.98772812],\n",
       "       [0.96332366, 0.03667634],\n",
       "       [0.92977229, 0.07022771],\n",
       "       [0.96192488, 0.03807512],\n",
       "       [0.01205813, 0.98794187],\n",
       "       [0.9862993 , 0.0137007 ],\n",
       "       [0.9740501 , 0.0259499 ],\n",
       "       [0.91030864, 0.08969136],\n",
       "       [0.96531182, 0.03468818],\n",
       "       [0.997117  , 0.002883  ],\n",
       "       [0.99507191, 0.00492809],\n",
       "       [0.9830901 , 0.0169099 ],\n",
       "       [0.99499402, 0.00500598],\n",
       "       [0.14359369, 0.85640631],\n",
       "       [0.97522062, 0.02477938],\n",
       "       [0.00602822, 0.99397178],\n",
       "       [0.04789828, 0.95210172],\n",
       "       [0.01152866, 0.98847134],\n",
       "       [0.02179616, 0.97820384],\n",
       "       [0.0683747 , 0.9316253 ],\n",
       "       [0.00809656, 0.99190344],\n",
       "       [0.01348496, 0.98651504],\n",
       "       [0.86570771, 0.13429229],\n",
       "       [0.02168566, 0.97831434],\n",
       "       [0.99771576, 0.00228424],\n",
       "       [0.02454228, 0.97545772],\n",
       "       [0.06101518, 0.93898482],\n",
       "       [0.03032722, 0.96967278],\n",
       "       [0.95004593, 0.04995407],\n",
       "       [0.11280617, 0.88719383],\n",
       "       [0.89298158, 0.10701842],\n",
       "       [0.99702464, 0.00297536],\n",
       "       [0.99115936, 0.00884064],\n",
       "       [0.94358704, 0.05641296],\n",
       "       [0.98080587, 0.01919413],\n",
       "       [0.0624354 , 0.9375646 ],\n",
       "       [0.96312573, 0.03687427],\n",
       "       [0.98794992, 0.01205008],\n",
       "       [0.05273358, 0.94726642],\n",
       "       [0.90463297, 0.09536703],\n",
       "       [0.99491061, 0.00508939],\n",
       "       [0.95143159, 0.04856841],\n",
       "       [0.95636646, 0.04363354],\n",
       "       [0.98579908, 0.01420092],\n",
       "       [0.97648179, 0.02351821],\n",
       "       [0.01544736, 0.98455264],\n",
       "       [0.98786846, 0.01213154],\n",
       "       [0.99651526, 0.00348474],\n",
       "       [0.03059427, 0.96940573],\n",
       "       [0.90917374, 0.09082626],\n",
       "       [0.02465735, 0.97534265],\n",
       "       [0.97691016, 0.02308984],\n",
       "       [0.9504632 , 0.0495368 ],\n",
       "       [0.04329373, 0.95670627],\n",
       "       [0.04684816, 0.95315184],\n",
       "       [0.02581055, 0.97418945],\n",
       "       [0.86484213, 0.13515787],\n",
       "       [0.01557947, 0.98442053],\n",
       "       [0.03284548, 0.96715452],\n",
       "       [0.00965063, 0.99034937],\n",
       "       [0.90540419, 0.09459581],\n",
       "       [0.03249068, 0.96750932],\n",
       "       [0.79355425, 0.20644575],\n",
       "       [0.98317166, 0.01682834],\n",
       "       [0.13112173, 0.86887827],\n",
       "       [0.00765024, 0.99234976],\n",
       "       [0.56637493, 0.43362507],\n",
       "       [0.00861649, 0.99138351],\n",
       "       [0.01426312, 0.98573688],\n",
       "       [0.9959878 , 0.0040122 ],\n",
       "       [0.01655913, 0.98344087],\n",
       "       [0.01562983, 0.98437017],\n",
       "       [0.96987283, 0.03012717],\n",
       "       [0.97418496, 0.02581504],\n",
       "       [0.02782084, 0.97217916],\n",
       "       [0.99366976, 0.00633024],\n",
       "       [0.02284919, 0.97715081],\n",
       "       [0.06063682, 0.93936318],\n",
       "       [0.9296471 , 0.0703529 ],\n",
       "       [0.03032722, 0.96967278],\n",
       "       [0.99120431, 0.00879569],\n",
       "       [0.98580534, 0.01419466],\n",
       "       [0.0163714 , 0.9836286 ],\n",
       "       [0.98713798, 0.01286202],\n",
       "       [0.01414756, 0.98585244],\n",
       "       [0.06679421, 0.93320579],\n",
       "       [0.05195795, 0.94804205],\n",
       "       [0.01158847, 0.98841153],\n",
       "       [0.03341479, 0.96658521],\n",
       "       [0.99198496, 0.00801504],\n",
       "       [0.02742333, 0.97257667],\n",
       "       [0.03580746, 0.96419254],\n",
       "       [0.20477694, 0.79522306],\n",
       "       [0.98625001, 0.01374999]])"
      ]
     },
     "execution_count": 13,
     "metadata": {},
     "output_type": "execute_result"
    }
   ],
   "source": [
    "prediction_prob=model.predict_proba(x_test)\n",
    "prediction_prob"
   ]
  },
  {
   "cell_type": "code",
   "execution_count": 14,
   "id": "4cf57475",
   "metadata": {},
   "outputs": [],
   "source": [
    "from sklearn.metrics import plot_roc_curve\n"
   ]
  },
  {
   "cell_type": "code",
   "execution_count": 15,
   "id": "b5952296",
   "metadata": {},
   "outputs": [],
   "source": [
    "import matplotlib.pyplot as plt"
   ]
  },
  {
   "cell_type": "code",
   "execution_count": 44,
   "id": "830af1a1",
   "metadata": {},
   "outputs": [
    {
     "name": "stderr",
     "output_type": "stream",
     "text": [
      "C:\\Users\\omika\\anaconda3\\lib\\site-packages\\sklearn\\utils\\deprecation.py:87: FutureWarning: Function plot_roc_curve is deprecated; Function :func:`plot_roc_curve` is deprecated in 1.0 and will be removed in 1.2. Use one of the class methods: :meth:`sklearn.metric.RocCurveDisplay.from_predictions` or :meth:`sklearn.metric.RocCurveDisplay.from_estimator`.\n",
      "  warnings.warn(msg, category=FutureWarning)\n"
     ]
    },
    {
     "data": {
      "image/png": "[encoded data removed]",
      "text/plain": [
       "<Figure size 640x480 with 1 Axes>"
      ]
     },
     "metadata": {},
     "output_type": "display_data"
    }
   ],
   "source": [
    "ax = plt.gca()\n",
    "model_disp = plot_roc_curve(model, x_test, y_test, ax=ax, alpha=0.8, color='blue')\n",
    "plt.xlabel('1-Specificity', fontsize=16)\n",
    "plt.ylabel('Sensitivity', fontsize=16)\n",
    "plt.xticks(fontsize= 12)\n",
    "plt.yticks(fontsize= 12)\n",
    "plt.title('ROC curve', fontsize=16)\n",
    "plt.show()"
   ]
  },
  {
   "cell_type": "code",
   "execution_count": 17,
   "id": "19348d26",
   "metadata": {},
   "outputs": [],
   "source": [
    "from sklearn import metrics"
   ]
  },
  {
   "cell_type": "code",
   "execution_count": 18,
   "id": "de1c572a",
   "metadata": {},
   "outputs": [
    {
     "data": {
      "image/png": "[encoded data removed]",
      "text/plain": [
       "<Figure size 640x480 with 2 Axes>"
      ]
     },
     "metadata": {},
     "output_type": "display_data"
    }
   ],
   "source": [
    "confusion_matrix = metrics.confusion_matrix(y_test, prediction)\n",
    "\n",
    "cm_display = metrics.ConfusionMatrixDisplay(confusion_matrix = confusion_matrix, display_labels = [False, True])\n",
    "\n",
    "cm_display.plot()\n",
    "plt.show()"
   ]
  },
  {
   "cell_type": "code",
   "execution_count": 19,
   "id": "be56b797",
   "metadata": {},
   "outputs": [],
   "source": [
    " from sklearn.metrics import classification_report"
   ]
  },
  {
   "cell_type": "code",
   "execution_count": 20,
   "id": "a78ca091",
   "metadata": {},
   "outputs": [
    {
     "data": {
      "text/plain": [
       "0.9543568464730291"
      ]
     },
     "execution_count": 20,
     "metadata": {},
     "output_type": "execute_result"
    }
   ],
   "source": [
    "Accuracy = metrics.accuracy_score(y_test, prediction)\n",
    "Accuracy"
   ]
  },
  {
   "cell_type": "code",
   "execution_count": 32,
   "id": "57d28162",
   "metadata": {},
   "outputs": [
    {
     "data": {
      "text/plain": [
       "0.9596774193548387"
      ]
     },
     "execution_count": 32,
     "metadata": {},
     "output_type": "execute_result"
    }
   ],
   "source": [
    "Precision = metrics.precision_score(y_test, prediction)\n",
    "Precision"
   ]
  },
  {
   "cell_type": "code",
   "execution_count": 33,
   "id": "b7d5f370",
   "metadata": {},
   "outputs": [
    {
     "data": {
      "text/plain": [
       "0.952"
      ]
     },
     "execution_count": 33,
     "metadata": {},
     "output_type": "execute_result"
    }
   ],
   "source": [
    "Sensitivity_recall = metrics.recall_score(y_test, prediction)\n",
    "Sensitivity_recall"
   ]
  },
  {
   "cell_type": "code",
   "execution_count": 34,
   "id": "674932f0",
   "metadata": {},
   "outputs": [
    {
     "data": {
      "text/plain": [
       "0.952"
      ]
     },
     "execution_count": 34,
     "metadata": {},
     "output_type": "execute_result"
    }
   ],
   "source": [
    "Specificity = metrics.recall_score(y_test, prediction)\n",
    "Specificity"
   ]
  },
  {
   "cell_type": "code",
   "execution_count": 35,
   "id": "545cd2e5",
   "metadata": {},
   "outputs": [
    {
     "data": {
      "text/plain": [
       "0.9558232931726908"
      ]
     },
     "execution_count": 35,
     "metadata": {},
     "output_type": "execute_result"
    }
   ],
   "source": [
    "F1_score = metrics.f1_score(y_test, prediction)\n",
    "F1_score"
   ]
  },
  {
   "cell_type": "code",
   "execution_count": 36,
   "id": "122982cc",
   "metadata": {},
   "outputs": [
    {
     "name": "stdout",
     "output_type": "stream",
     "text": [
      "{'Accuracy': 0.9543568464730291, 'Precision': 0.9596774193548387, 'Sensitivity_recall': 0.952, 'Specificity': 0.952, 'F1_score': 0.9558232931726908}\n"
     ]
    }
   ],
   "source": [
    "print({\"Accuracy\":Accuracy,\"Precision\":Precision,\"Sensitivity_recall\":Sensitivity_recall,\"Specificity\":Specificity,\"F1_score\":F1_score})\n"
   ]
  },
  {
   "cell_type": "code",
   "execution_count": 21,
   "id": "99f446cb",
   "metadata": {},
   "outputs": [],
   "source": [
    "final = pd.read_csv(\"data.csv\")"
   ]
  },
  {
   "cell_type": "code",
   "execution_count": 22,
   "id": "ffae55e8",
   "metadata": {},
   "outputs": [
    {
     "data": {
      "text/html": [
       "<div>\n",
       "<style scoped>\n",
       "    .dataframe tbody tr th:only-of-type {\n",
       "        vertical-align: middle;\n",
       "    }\n",
       "\n",
       "    .dataframe tbody tr th {\n",
       "        vertical-align: top;\n",
       "    }\n",
       "\n",
       "    .dataframe thead th {\n",
       "        text-align: right;\n",
       "    }\n",
       "</style>\n",
       "<table border=\"1\" class=\"dataframe\">\n",
       "  <thead>\n",
       "    <tr style=\"text-align: right;\">\n",
       "      <th></th>\n",
       "      <th>POINTID</th>\n",
       "      <th>GRID_CODE</th>\n",
       "      <th>long</th>\n",
       "      <th>Lat</th>\n",
       "      <th>SPI</th>\n",
       "      <th>Soil_</th>\n",
       "      <th>Slope</th>\n",
       "      <th>Rainfall1</th>\n",
       "      <th>NDVI</th>\n",
       "      <th>lulc_</th>\n",
       "      <th>...</th>\n",
       "      <th>Flow_acc</th>\n",
       "      <th>DR_final</th>\n",
       "      <th>dem</th>\n",
       "      <th>DD_final</th>\n",
       "      <th>Curvature</th>\n",
       "      <th>CN</th>\n",
       "      <th>Aspect</th>\n",
       "      <th>TWI</th>\n",
       "      <th>STI</th>\n",
       "      <th>prob2</th>\n",
       "    </tr>\n",
       "  </thead>\n",
       "  <tbody>\n",
       "    <tr>\n",
       "      <th>0</th>\n",
       "      <td>1</td>\n",
       "      <td>351.027374</td>\n",
       "      <td>76.608695</td>\n",
       "      <td>9.846932</td>\n",
       "      <td>-1.50632</td>\n",
       "      <td>1</td>\n",
       "      <td>6.26637</td>\n",
       "      <td>3654.147839</td>\n",
       "      <td>0.378255</td>\n",
       "      <td>3</td>\n",
       "      <td>...</td>\n",
       "      <td>2</td>\n",
       "      <td>2</td>\n",
       "      <td>69</td>\n",
       "      <td>0.0</td>\n",
       "      <td>-0.422841</td>\n",
       "      <td>79</td>\n",
       "      <td>308.9910</td>\n",
       "      <td>6.73376</td>\n",
       "      <td>0.000000</td>\n",
       "      <td>0.623230</td>\n",
       "    </tr>\n",
       "    <tr>\n",
       "      <th>1</th>\n",
       "      <td>2</td>\n",
       "      <td>219.289413</td>\n",
       "      <td>76.612159</td>\n",
       "      <td>9.846916</td>\n",
       "      <td>-0.43119</td>\n",
       "      <td>1</td>\n",
       "      <td>17.93710</td>\n",
       "      <td>3654.147839</td>\n",
       "      <td>0.389830</td>\n",
       "      <td>3</td>\n",
       "      <td>...</td>\n",
       "      <td>2</td>\n",
       "      <td>2</td>\n",
       "      <td>67</td>\n",
       "      <td>0.0</td>\n",
       "      <td>-0.634261</td>\n",
       "      <td>75</td>\n",
       "      <td>218.8840</td>\n",
       "      <td>5.65265</td>\n",
       "      <td>0.209360</td>\n",
       "      <td>0.313419</td>\n",
       "    </tr>\n",
       "    <tr>\n",
       "      <th>2</th>\n",
       "      <td>3</td>\n",
       "      <td>319.398712</td>\n",
       "      <td>76.615623</td>\n",
       "      <td>9.846899</td>\n",
       "      <td>-10.42310</td>\n",
       "      <td>1</td>\n",
       "      <td>1.64610</td>\n",
       "      <td>3654.147839</td>\n",
       "      <td>0.389206</td>\n",
       "      <td>3</td>\n",
       "      <td>...</td>\n",
       "      <td>0</td>\n",
       "      <td>6</td>\n",
       "      <td>85</td>\n",
       "      <td>0.0</td>\n",
       "      <td>0.211420</td>\n",
       "      <td>70</td>\n",
       "      <td>351.8700</td>\n",
       "      <td>6.97565</td>\n",
       "      <td>0.000000</td>\n",
       "      <td>0.031128</td>\n",
       "    </tr>\n",
       "    <tr>\n",
       "      <th>3</th>\n",
       "      <td>4</td>\n",
       "      <td>14.420774</td>\n",
       "      <td>76.619088</td>\n",
       "      <td>9.846883</td>\n",
       "      <td>0.00000</td>\n",
       "      <td>1</td>\n",
       "      <td>0.00000</td>\n",
       "      <td>3654.147839</td>\n",
       "      <td>0.376153</td>\n",
       "      <td>2</td>\n",
       "      <td>...</td>\n",
       "      <td>1</td>\n",
       "      <td>6</td>\n",
       "      <td>102</td>\n",
       "      <td>0.0</td>\n",
       "      <td>0.105710</td>\n",
       "      <td>75</td>\n",
       "      <td>0.0000</td>\n",
       "      <td>0.00000</td>\n",
       "      <td>0.000000</td>\n",
       "      <td>0.062924</td>\n",
       "    </tr>\n",
       "    <tr>\n",
       "      <th>4</th>\n",
       "      <td>5</td>\n",
       "      <td>37.874985</td>\n",
       "      <td>76.487425</td>\n",
       "      <td>9.844052</td>\n",
       "      <td>-2.05469</td>\n",
       "      <td>1</td>\n",
       "      <td>3.60682</td>\n",
       "      <td>3566.107163</td>\n",
       "      <td>0.348509</td>\n",
       "      <td>2</td>\n",
       "      <td>...</td>\n",
       "      <td>2</td>\n",
       "      <td>6</td>\n",
       "      <td>16</td>\n",
       "      <td>0.0</td>\n",
       "      <td>-0.422841</td>\n",
       "      <td>73</td>\n",
       "      <td>61.7826</td>\n",
       "      <td>7.28880</td>\n",
       "      <td>0.001712</td>\n",
       "      <td>0.714163</td>\n",
       "    </tr>\n",
       "  </tbody>\n",
       "</table>\n",
       "<p>5 rows × 22 columns</p>\n",
       "</div>"
      ],
      "text/plain": [
       "   POINTID   GRID_CODE       long       Lat       SPI  Soil_     Slope  \\\n",
       "0        1  351.027374  76.608695  9.846932  -1.50632      1   6.26637   \n",
       "1        2  219.289413  76.612159  9.846916  -0.43119      1  17.93710   \n",
       "2        3  319.398712  76.615623  9.846899 -10.42310      1   1.64610   \n",
       "3        4   14.420774  76.619088  9.846883   0.00000      1   0.00000   \n",
       "4        5   37.874985  76.487425  9.844052  -2.05469      1   3.60682   \n",
       "\n",
       "     Rainfall1      NDVI  lulc_  ...  Flow_acc  DR_final  dem  DD_final  \\\n",
       "0  3654.147839  0.378255      3  ...         2         2   69       0.0   \n",
       "1  3654.147839  0.389830      3  ...         2         2   67       0.0   \n",
       "2  3654.147839  0.389206      3  ...         0         6   85       0.0   \n",
       "3  3654.147839  0.376153      2  ...         1         6  102       0.0   \n",
       "4  3566.107163  0.348509      2  ...         2         6   16       0.0   \n",
       "\n",
       "   Curvature  CN    Aspect      TWI       STI     prob2  \n",
       "0  -0.422841  79  308.9910  6.73376  0.000000  0.623230  \n",
       "1  -0.634261  75  218.8840  5.65265  0.209360  0.313419  \n",
       "2   0.211420  70  351.8700  6.97565  0.000000  0.031128  \n",
       "3   0.105710  75    0.0000  0.00000  0.000000  0.062924  \n",
       "4  -0.422841  73   61.7826  7.28880  0.001712  0.714163  \n",
       "\n",
       "[5 rows x 22 columns]"
      ]
     },
     "execution_count": 22,
     "metadata": {},
     "output_type": "execute_result"
    }
   ],
   "source": [
    "final.head()"
   ]
  },
  {
   "cell_type": "code",
   "execution_count": 23,
   "id": "0a0679cb",
   "metadata": {},
   "outputs": [
    {
     "data": {
      "text/plain": [
       "Index(['POINTID', 'GRID_CODE', 'long', 'Lat', 'SPI', 'Soil_', 'Slope',\n",
       "       'Rainfall1', 'NDVI', 'lulc_', 'Geomorphol', 'Geology_', 'Flow_acc',\n",
       "       'DR_final', 'dem', 'DD_final', 'Curvature', 'CN', 'Aspect', 'TWI',\n",
       "       'STI', 'prob2'],\n",
       "      dtype='object')"
      ]
     },
     "execution_count": 23,
     "metadata": {},
     "output_type": "execute_result"
    }
   ],
   "source": [
    "final.columns"
   ]
  },
  {
   "cell_type": "code",
   "execution_count": 24,
   "id": "64ce6d83",
   "metadata": {},
   "outputs": [],
   "source": [
    "data = final[['Soil_','Slope', 'Rainfall1', 'NDVI', 'lulc_', 'Geomorphol', 'Geology_',\n",
    "       'Flow_acc', 'DR_final', 'dem', 'DD_final', 'Curvature', 'CN', 'Aspect',\n",
    "       'TWI', 'STI', 'SPI']]"
   ]
  },
  {
   "cell_type": "code",
   "execution_count": 25,
   "id": "65e61979",
   "metadata": {},
   "outputs": [
    {
     "data": {
      "text/html": [
       "<div>\n",
       "<style scoped>\n",
       "    .dataframe tbody tr th:only-of-type {\n",
       "        vertical-align: middle;\n",
       "    }\n",
       "\n",
       "    .dataframe tbody tr th {\n",
       "        vertical-align: top;\n",
       "    }\n",
       "\n",
       "    .dataframe thead th {\n",
       "        text-align: right;\n",
       "    }\n",
       "</style>\n",
       "<table border=\"1\" class=\"dataframe\">\n",
       "  <thead>\n",
       "    <tr style=\"text-align: right;\">\n",
       "      <th></th>\n",
       "      <th>Soil_</th>\n",
       "      <th>Slope</th>\n",
       "      <th>Rainfall1</th>\n",
       "      <th>NDVI</th>\n",
       "      <th>lulc_</th>\n",
       "      <th>Geomorphol</th>\n",
       "      <th>Geology_</th>\n",
       "      <th>Flow_acc</th>\n",
       "      <th>DR_final</th>\n",
       "      <th>dem</th>\n",
       "      <th>DD_final</th>\n",
       "      <th>Curvature</th>\n",
       "      <th>CN</th>\n",
       "      <th>Aspect</th>\n",
       "      <th>TWI</th>\n",
       "      <th>STI</th>\n",
       "      <th>SPI</th>\n",
       "    </tr>\n",
       "  </thead>\n",
       "  <tbody>\n",
       "    <tr>\n",
       "      <th>0</th>\n",
       "      <td>1</td>\n",
       "      <td>6.26637</td>\n",
       "      <td>3654.147839</td>\n",
       "      <td>0.378255</td>\n",
       "      <td>3</td>\n",
       "      <td>1</td>\n",
       "      <td>1</td>\n",
       "      <td>2</td>\n",
       "      <td>2</td>\n",
       "      <td>69</td>\n",
       "      <td>0.0</td>\n",
       "      <td>-0.422841</td>\n",
       "      <td>79</td>\n",
       "      <td>308.9910</td>\n",
       "      <td>6.73376</td>\n",
       "      <td>0.000000</td>\n",
       "      <td>-1.50632</td>\n",
       "    </tr>\n",
       "    <tr>\n",
       "      <th>1</th>\n",
       "      <td>1</td>\n",
       "      <td>17.93710</td>\n",
       "      <td>3654.147839</td>\n",
       "      <td>0.389830</td>\n",
       "      <td>3</td>\n",
       "      <td>1</td>\n",
       "      <td>1</td>\n",
       "      <td>2</td>\n",
       "      <td>2</td>\n",
       "      <td>67</td>\n",
       "      <td>0.0</td>\n",
       "      <td>-0.634261</td>\n",
       "      <td>75</td>\n",
       "      <td>218.8840</td>\n",
       "      <td>5.65265</td>\n",
       "      <td>0.209360</td>\n",
       "      <td>-0.43119</td>\n",
       "    </tr>\n",
       "    <tr>\n",
       "      <th>2</th>\n",
       "      <td>1</td>\n",
       "      <td>1.64610</td>\n",
       "      <td>3654.147839</td>\n",
       "      <td>0.389206</td>\n",
       "      <td>3</td>\n",
       "      <td>1</td>\n",
       "      <td>1</td>\n",
       "      <td>0</td>\n",
       "      <td>6</td>\n",
       "      <td>85</td>\n",
       "      <td>0.0</td>\n",
       "      <td>0.211420</td>\n",
       "      <td>70</td>\n",
       "      <td>351.8700</td>\n",
       "      <td>6.97565</td>\n",
       "      <td>0.000000</td>\n",
       "      <td>-10.42310</td>\n",
       "    </tr>\n",
       "    <tr>\n",
       "      <th>3</th>\n",
       "      <td>1</td>\n",
       "      <td>0.00000</td>\n",
       "      <td>3654.147839</td>\n",
       "      <td>0.376153</td>\n",
       "      <td>2</td>\n",
       "      <td>1</td>\n",
       "      <td>1</td>\n",
       "      <td>1</td>\n",
       "      <td>6</td>\n",
       "      <td>102</td>\n",
       "      <td>0.0</td>\n",
       "      <td>0.105710</td>\n",
       "      <td>75</td>\n",
       "      <td>0.0000</td>\n",
       "      <td>0.00000</td>\n",
       "      <td>0.000000</td>\n",
       "      <td>0.00000</td>\n",
       "    </tr>\n",
       "    <tr>\n",
       "      <th>4</th>\n",
       "      <td>1</td>\n",
       "      <td>3.60682</td>\n",
       "      <td>3566.107163</td>\n",
       "      <td>0.348509</td>\n",
       "      <td>2</td>\n",
       "      <td>1</td>\n",
       "      <td>1</td>\n",
       "      <td>2</td>\n",
       "      <td>6</td>\n",
       "      <td>16</td>\n",
       "      <td>0.0</td>\n",
       "      <td>-0.422841</td>\n",
       "      <td>73</td>\n",
       "      <td>61.7826</td>\n",
       "      <td>7.28880</td>\n",
       "      <td>0.001712</td>\n",
       "      <td>-2.05469</td>\n",
       "    </tr>\n",
       "  </tbody>\n",
       "</table>\n",
       "</div>"
      ],
      "text/plain": [
       "   Soil_     Slope    Rainfall1      NDVI  lulc_  Geomorphol  Geology_  \\\n",
       "0      1   6.26637  3654.147839  0.378255      3           1         1   \n",
       "1      1  17.93710  3654.147839  0.389830      3           1         1   \n",
       "2      1   1.64610  3654.147839  0.389206      3           1         1   \n",
       "3      1   0.00000  3654.147839  0.376153      2           1         1   \n",
       "4      1   3.60682  3566.107163  0.348509      2           1         1   \n",
       "\n",
       "   Flow_acc  DR_final  dem  DD_final  Curvature  CN    Aspect      TWI  \\\n",
       "0         2         2   69       0.0  -0.422841  79  308.9910  6.73376   \n",
       "1         2         2   67       0.0  -0.634261  75  218.8840  5.65265   \n",
       "2         0         6   85       0.0   0.211420  70  351.8700  6.97565   \n",
       "3         1         6  102       0.0   0.105710  75    0.0000  0.00000   \n",
       "4         2         6   16       0.0  -0.422841  73   61.7826  7.28880   \n",
       "\n",
       "        STI       SPI  \n",
       "0  0.000000  -1.50632  \n",
       "1  0.209360  -0.43119  \n",
       "2  0.000000 -10.42310  \n",
       "3  0.000000   0.00000  \n",
       "4  0.001712  -2.05469  "
      ]
     },
     "execution_count": 25,
     "metadata": {},
     "output_type": "execute_result"
    }
   ],
   "source": [
    "data.head()"
   ]
  },
  {
   "cell_type": "code",
   "execution_count": 26,
   "id": "1fd81583",
   "metadata": {},
   "outputs": [
    {
     "name": "stdout",
     "output_type": "stream",
     "text": [
      "[[-0.74224981 -0.11691126  1.06335154 ... -0.32511766 -0.07234691\n",
      "   0.53249071]\n",
      " [-0.74224981  1.49895893  1.06335154 ... -0.72044904 -0.04394281\n",
      "   0.77308873]\n",
      " [-0.74224981 -0.75661045  1.06335154 ... -0.23666532 -0.07234691\n",
      "  -1.46295137]\n",
      " ...\n",
      " [ 0.60024055  0.89706762 -2.97182015 ... -1.0154145  -0.07234691\n",
      "  -0.99309675]\n",
      " [ 0.60024055  1.91451757 -2.97182015 ... -0.47177397 -0.04064831\n",
      "   1.05618779]\n",
      " [ 0.60024055  3.30100531 -2.97182015 ... -0.84074408 -0.07234691\n",
      "   1.00146809]]\n"
     ]
    }
   ],
   "source": [
    "scale = StandardScaler()\n",
    "x_s = scale.fit_transform(data) \n",
    "print(x_s)"
   ]
  },
  {
   "cell_type": "code",
   "execution_count": 27,
   "id": "40b20c06",
   "metadata": {},
   "outputs": [],
   "source": [
    "predict = model.predict(x_s)"
   ]
  },
  {
   "cell_type": "code",
   "execution_count": 28,
   "id": "b76a42cc",
   "metadata": {},
   "outputs": [
    {
     "data": {
      "text/plain": [
       "array([[0.34596374, 0.65403626],\n",
       "       [0.60619674, 0.39380326],\n",
       "       [0.97156286, 0.02843714],\n",
       "       ...,\n",
       "       [0.97208776, 0.02791224],\n",
       "       [0.9694779 , 0.0305221 ],\n",
       "       [0.92511371, 0.07488629]])"
      ]
     },
     "execution_count": 28,
     "metadata": {},
     "output_type": "execute_result"
    }
   ],
   "source": [
    "prob=model.predict_proba(x_s)\n",
    "prob"
   ]
  },
  {
   "cell_type": "code",
   "execution_count": null,
   "id": "a27a8793",
   "metadata": {},
   "outputs": [],
   "source": []
  },
  {
   "cell_type": "code",
   "execution_count": 29,
   "id": "d32810e5",
   "metadata": {},
   "outputs": [],
   "source": [
    "import pandas as pd"
   ]
  },
  {
   "cell_type": "code",
   "execution_count": 30,
   "id": "3547735d",
   "metadata": {},
   "outputs": [
    {
     "data": {
      "text/html": [
       "<div>\n",
       "<style scoped>\n",
       "    .dataframe tbody tr th:only-of-type {\n",
       "        vertical-align: middle;\n",
       "    }\n",
       "\n",
       "    .dataframe tbody tr th {\n",
       "        vertical-align: top;\n",
       "    }\n",
       "\n",
       "    .dataframe thead th {\n",
       "        text-align: right;\n",
       "    }\n",
       "</style>\n",
       "<table border=\"1\" class=\"dataframe\">\n",
       "  <thead>\n",
       "    <tr style=\"text-align: right;\">\n",
       "      <th></th>\n",
       "      <th>0</th>\n",
       "      <th>1</th>\n",
       "    </tr>\n",
       "  </thead>\n",
       "  <tbody>\n",
       "    <tr>\n",
       "      <th>0</th>\n",
       "      <td>0.345964</td>\n",
       "      <td>0.654036</td>\n",
       "    </tr>\n",
       "    <tr>\n",
       "      <th>1</th>\n",
       "      <td>0.606197</td>\n",
       "      <td>0.393803</td>\n",
       "    </tr>\n",
       "    <tr>\n",
       "      <th>2</th>\n",
       "      <td>0.971563</td>\n",
       "      <td>0.028437</td>\n",
       "    </tr>\n",
       "    <tr>\n",
       "      <th>3</th>\n",
       "      <td>0.963196</td>\n",
       "      <td>0.036804</td>\n",
       "    </tr>\n",
       "    <tr>\n",
       "      <th>4</th>\n",
       "      <td>0.979642</td>\n",
       "      <td>0.020358</td>\n",
       "    </tr>\n",
       "    <tr>\n",
       "      <th>...</th>\n",
       "      <td>...</td>\n",
       "      <td>...</td>\n",
       "    </tr>\n",
       "    <tr>\n",
       "      <th>14544</th>\n",
       "      <td>0.801195</td>\n",
       "      <td>0.198805</td>\n",
       "    </tr>\n",
       "    <tr>\n",
       "      <th>14545</th>\n",
       "      <td>0.968604</td>\n",
       "      <td>0.031396</td>\n",
       "    </tr>\n",
       "    <tr>\n",
       "      <th>14546</th>\n",
       "      <td>0.972088</td>\n",
       "      <td>0.027912</td>\n",
       "    </tr>\n",
       "    <tr>\n",
       "      <th>14547</th>\n",
       "      <td>0.969478</td>\n",
       "      <td>0.030522</td>\n",
       "    </tr>\n",
       "    <tr>\n",
       "      <th>14548</th>\n",
       "      <td>0.925114</td>\n",
       "      <td>0.074886</td>\n",
       "    </tr>\n",
       "  </tbody>\n",
       "</table>\n",
       "<p>14549 rows × 2 columns</p>\n",
       "</div>"
      ],
      "text/plain": [
       "              0         1\n",
       "0      0.345964  0.654036\n",
       "1      0.606197  0.393803\n",
       "2      0.971563  0.028437\n",
       "3      0.963196  0.036804\n",
       "4      0.979642  0.020358\n",
       "...         ...       ...\n",
       "14544  0.801195  0.198805\n",
       "14545  0.968604  0.031396\n",
       "14546  0.972088  0.027912\n",
       "14547  0.969478  0.030522\n",
       "14548  0.925114  0.074886\n",
       "\n",
       "[14549 rows x 2 columns]"
      ]
     },
     "execution_count": 30,
     "metadata": {},
     "output_type": "execute_result"
    }
   ],
   "source": [
    "DF = pd.DataFrame(prob)\n",
    "DF"
   ]
  },
  {
   "cell_type": "code",
   "execution_count": 31,
   "id": "b2bf9288",
   "metadata": {},
   "outputs": [],
   "source": [
    "DF.to_csv(\"probsvm.csv\")"
   ]
  },
  {
   "cell_type": "code",
   "execution_count": null,
   "id": "2fc78e4b",
   "metadata": {},
   "outputs": [],
   "source": []
  }
 ],
 "metadata": {
  "kernelspec": {
   "display_name": "Python 3 (ipykernel)",
   "language": "python",
   "name": "python3"
  },
  "language_info": {
   "codemirror_mode": {
    "name": "ipython",
    "version": 3
   },
   "file_extension": ".py",
   "mimetype": "text/x-python",
   "name": "python",
   "nbconvert_exporter": "python",
   "pygments_lexer": "ipython3",
   "version": "3.9.13"
  }
 },
 "nbformat": 4,
 "nbformat_minor": 5
}
